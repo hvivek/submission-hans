{
 "cells": [
  {
   "cell_type": "markdown",
   "id": "fef2b5dd-b103-4238-814a-63aad23d8c1c",
   "metadata": {},
   "source": [
    "# Data Science Tools and Ecosystem"
   ]
  },
  {
   "cell_type": "markdown",
   "id": "af5b0e8f-fcea-4a72-be58-4fbe3159484f",
   "metadata": {},
   "source": [
    "In this notebook, Data Science Tools and Ecosystem are summarized."
   ]
  },
  {
   "cell_type": "markdown",
   "id": "4baa6659-d2c5-45c0-b914-de61d89d25f7",
   "metadata": {},
   "source": [
    "__Objectives:__\n",
    "1. List popular languages for Data Science\n",
    "2. Some of the commonly used libraries used by Data Scientists\n",
    "3. Data Science Tools\n",
    "4. Few examples of evaluating arithmetic expressions in Python"
   ]
  },
  {
   "cell_type": "markdown",
   "id": "bc667645-98e2-4846-998e-3e15d11b33d0",
   "metadata": {},
   "source": [
    "Some of the popular languages that Data Scientists use are:\n",
    "1. Python\n",
    "2. R\n",
    "3. Julia\n",
    "4. Java\n",
    "5. SQL"
   ]
  },
  {
   "cell_type": "markdown",
   "id": "54d44e7a-0b37-49d2-8b37-a312c1656c4b",
   "metadata": {},
   "source": [
    "Some of the commonly used libraries used by Data Scientists include:\n",
    "1. NumPy\n",
    "2. Keras\n",
    "3. Pandas\n",
    "4. PyTorch\n",
    "5. SciPy\n",
    "6. Scikit\n",
    "7. TensorFlow\n",
    "8. Matplotlib"
   ]
  },
  {
   "cell_type": "markdown",
   "id": "89db0869-fb55-415b-be85-9d79bb4d42d5",
   "metadata": {},
   "source": [
    "|Data Science Tools|\n",
    "|---|\n",
    "|Apache Spark|\n",
    "|Jupyter Notebook|\n",
    "|Apache Hadoop|"
   ]
  },
  {
   "cell_type": "markdown",
   "id": "ab88fc06-76b5-49f0-9b11-b476123341ea",
   "metadata": {},
   "source": [
    "### Below are a few examples of evaluating arithmetic expressions in Python."
   ]
  },
  {
   "cell_type": "code",
   "execution_count": 11,
   "id": "84fa4aec-9903-4a03-9f69-99aff533f2c4",
   "metadata": {},
   "outputs": [
    {
     "name": "stdout",
     "output_type": "stream",
     "text": [
      "17\n"
     ]
    }
   ],
   "source": [
    "# Here we will evaluate the expression (3*4)+5.\n",
    "\n",
    "x=3\n",
    "y=4\n",
    "z=5\n",
    "\n",
    "# We will multiply 'x' and 'y'.\n",
    "a=x*y\n",
    "\n",
    "# We will now add the result 'a' to 'z'.\n",
    "b=a+z\n",
    "\n",
    "print(b)"
   ]
  },
  {
   "cell_type": "code",
   "execution_count": 12,
   "id": "79fcce78-d7c6-4344-ab72-54e18dcce294",
   "metadata": {},
   "outputs": [
    {
     "name": "stdout",
     "output_type": "stream",
     "text": [
      "3.3333333333333335\n"
     ]
    }
   ],
   "source": [
    "# This will convert 200 minutes to hours by diving by 60.\n",
    "\n",
    "result=200/60\n",
    "\n",
    "print(result)\n"
   ]
  },
  {
   "cell_type": "markdown",
   "id": "53338266-592d-4c7a-aaf5-5c5b10f85d6a",
   "metadata": {},
   "source": [
    "## Author\n",
    "Hans Vivek"
   ]
  },
  {
   "cell_type": "code",
   "execution_count": null,
   "id": "38532615-2ec8-4130-9762-8aac0e982d11",
   "metadata": {},
   "outputs": [],
   "source": []
  }
 ],
 "metadata": {
  "kernelspec": {
   "display_name": "Python 3 (ipykernel)",
   "language": "python",
   "name": "python3"
  },
  "language_info": {
   "codemirror_mode": {
    "name": "ipython",
    "version": 3
   },
   "file_extension": ".py",
   "mimetype": "text/x-python",
   "name": "python",
   "nbconvert_exporter": "python",
   "pygments_lexer": "ipython3",
   "version": "3.11.9"
  }
 },
 "nbformat": 4,
 "nbformat_minor": 5
}
